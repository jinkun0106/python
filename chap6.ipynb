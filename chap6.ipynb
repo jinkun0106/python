{
  "nbformat": 4,
  "nbformat_minor": 0,
  "metadata": {
    "colab": {
      "name": "chap6.ipynb",
      "provenance": [],
      "collapsed_sections": []
    },
    "kernelspec": {
      "name": "python3",
      "display_name": "Python 3"
    },
    "language_info": {
      "name": "python"
    }
  },
  "cells": [
    {
      "cell_type": "markdown",
      "source": [
        "\n",
        "Chap6\n",
        "os套件：用來處理文件與目錄，與檔案相關操作"
      ],
      "metadata": {
        "id": "Z_1-OI88Jqo-"
      }
    },
    {
      "cell_type": "code",
      "execution_count": 1,
      "metadata": {
        "id": "4hADScACJoS3",
        "outputId": "856ed155-b1fc-47ed-b7d3-aed21a918d36",
        "colab": {
          "base_uri": "https://localhost:8080/"
        }
      },
      "outputs": [
        {
          "output_type": "stream",
          "name": "stdout",
          "text": [
            "/content\n"
          ]
        }
      ],
      "source": [
        "import os\n",
        "print(os.getcwd()) #顯示目前所在的工作目錄"
      ]
    },
    {
      "cell_type": "code",
      "source": [
        "#顯示目錄下的檔案\n",
        "os.listdir(\".\")"
      ],
      "metadata": {
        "id": "vei89cp_Juy6",
        "outputId": "ed07ea55-68dc-4baa-d88e-517154f450e5",
        "colab": {
          "base_uri": "https://localhost:8080/"
        }
      },
      "execution_count": 2,
      "outputs": [
        {
          "output_type": "execute_result",
          "data": {
            "text/plain": [
              "['.config', 'sample_data']"
            ]
          },
          "metadata": {},
          "execution_count": 2
        }
      ]
    },
    {
      "cell_type": "code",
      "source": [
        "#新增目錄\n",
        "os.makedirs(\"test\")\n",
        "os.listdir(\".\")"
      ],
      "metadata": {
        "id": "MJtx724dJwtV",
        "outputId": "1931aac7-7a31-49c3-b84b-8860ffad809f",
        "colab": {
          "base_uri": "https://localhost:8080/"
        }
      },
      "execution_count": 3,
      "outputs": [
        {
          "output_type": "execute_result",
          "data": {
            "text/plain": [
              "['.config', 'test', 'sample_data']"
            ]
          },
          "metadata": {},
          "execution_count": 3
        }
      ]
    },
    {
      "cell_type": "code",
      "source": [
        "#移除目錄\n",
        "os.rmdir(\"test\")\n",
        "os.listdir(\".\")"
      ],
      "metadata": {
        "id": "F_yOgZHPJx28",
        "outputId": "0849af5f-7fe1-4693-e5b8-2d66d065e1e7",
        "colab": {
          "base_uri": "https://localhost:8080/"
        }
      },
      "execution_count": 4,
      "outputs": [
        {
          "output_type": "execute_result",
          "data": {
            "text/plain": [
              "['.config', 'sample_data']"
            ]
          },
          "metadata": {},
          "execution_count": 4
        }
      ]
    },
    {
      "cell_type": "markdown",
      "source": [
        "檔案處理\n",
        "os套件有自己的檔案處理命令，而比較常用的是python內建的open\n",
        "\n",
        "w = 可寫(預設建立檔案) 若檔案存在則會清除舊檔案\n",
        "w+ = 可寫可讀(預設建立檔案) 若檔案存在則會清除舊檔案\n",
        "r = 可讀\n",
        "r+ = 可寫可讀 但寫入資料指向開頭\n",
        "a = 可寫不能讀 寫入資料指向尾端\n",
        "a+ = 可寫可讀 寫入資料指向尾端\n",
        "b = 轉為2進位文件\n",
        "ab+ = 2進位文件的讀寫 寫入資料指向尾端"
      ],
      "metadata": {
        "id": "ju9e3xl_Jt89"
      }
    },
    {
      "cell_type": "markdown",
      "source": [
        "新增檔案"
      ],
      "metadata": {
        "id": "aK-8QcaRJ2V9"
      }
    },
    {
      "cell_type": "code",
      "source": [
        "a=open(\"a.txt\",\"w\") #新增檔案\n",
        "a.write(\"This is a test1\")\n",
        "a.write(\"This is a test2\\n\")\n",
        "a.write(\"This is a test3\\n\")\n",
        "a.close() #關閉檔案"
      ],
      "metadata": {
        "id": "p6SBAibrJ4M9"
      },
      "execution_count": 5,
      "outputs": []
    },
    {
      "cell_type": "markdown",
      "source": [
        "檢查檔案是否存在"
      ],
      "metadata": {
        "id": "bkrIIUlsJ7O1"
      }
    },
    {
      "cell_type": "code",
      "source": [
        "os.path.isfile(\"a.txt\")"
      ],
      "metadata": {
        "id": "UTctS-ZOJ9F9",
        "outputId": "88217937-b00e-4f05-974f-acdd26c96443",
        "colab": {
          "base_uri": "https://localhost:8080/"
        }
      },
      "execution_count": 7,
      "outputs": [
        {
          "output_type": "execute_result",
          "data": {
            "text/plain": [
              "True"
            ]
          },
          "metadata": {},
          "execution_count": 7
        }
      ]
    },
    {
      "cell_type": "markdown",
      "source": [
        "讀取檔案"
      ],
      "metadata": {
        "id": "G3edjs61J-Sk"
      }
    },
    {
      "cell_type": "code",
      "source": [
        "a=open(\"a.txt\",\"r\")\n",
        "print(a.readline())\n",
        "print(a.readline())\n",
        "print(a.readline()) #多餘的命令，檔案只有2行\n",
        "a.close()"
      ],
      "metadata": {
        "id": "39TppLMNJ_Tp",
        "outputId": "7a3c0148-9603-48ec-eb3d-3c6ad29ceb28",
        "colab": {
          "base_uri": "https://localhost:8080/"
        }
      },
      "execution_count": 6,
      "outputs": [
        {
          "output_type": "stream",
          "name": "stdout",
          "text": [
            "This is a test1This is a test2\n",
            "\n",
            "This is a test3\n",
            "\n",
            "\n"
          ]
        }
      ]
    },
    {
      "cell_type": "code",
      "source": [
        "a=open(\"a.txt\",\"r\")\n",
        "print(a.readlines())  #一次讀取多行，與a.read()命令相同\n",
        "a.close()"
      ],
      "metadata": {
        "id": "t8GFIqTuKAaF",
        "outputId": "532c5757-26c7-4031-8812-b3d33d27df3a",
        "colab": {
          "base_uri": "https://localhost:8080/"
        }
      },
      "execution_count": 8,
      "outputs": [
        {
          "output_type": "stream",
          "name": "stdout",
          "text": [
            "['This is a test1This is a test2\\n', 'This is a test3\\n']\n"
          ]
        }
      ]
    },
    {
      "cell_type": "code",
      "source": [
        "#加上檔案是否存在的判斷\n",
        "if os.path.isfile(\"a.txt\"):\n",
        "    a=open(\"a.txt\",\"r\")\n",
        "    print(a.readlines())\n",
        "    a.close()\n",
        "else:\n",
        "    print(\"檔案不存在\")"
      ],
      "metadata": {
        "id": "XZQqSRafKB4A",
        "outputId": "0dd8268b-ba78-4041-cfe8-09541540f849",
        "colab": {
          "base_uri": "https://localhost:8080/"
        }
      },
      "execution_count": 9,
      "outputs": [
        {
          "output_type": "stream",
          "name": "stdout",
          "text": [
            "['This is a test1This is a test2\\n', 'This is a test3\\n']\n"
          ]
        }
      ]
    },
    {
      "cell_type": "markdown",
      "source": [
        "split函式"
      ],
      "metadata": {
        "id": "6_SvhE69KDBM"
      }
    },
    {
      "cell_type": "code",
      "source": [
        "if os.path.isfile(\"a.txt\"):\n",
        "    a=open(\"a.txt\",\"r\")\n",
        "    for line in a:\n",
        "        fields=line.split(\" \") #以空白為切割欄位\n",
        "        print(fields)\n",
        "    a.close()\n",
        "else:\n",
        "    print(\"檔案不存在\")"
      ],
      "metadata": {
        "id": "OTB8xiuzKEAc",
        "outputId": "c369478e-3e09-4de4-f7aa-c35a041c5611",
        "colab": {
          "base_uri": "https://localhost:8080/"
        }
      },
      "execution_count": 10,
      "outputs": [
        {
          "output_type": "stream",
          "name": "stdout",
          "text": [
            "['This', 'is', 'a', 'test1This', 'is', 'a', 'test2\\n']\n",
            "['This', 'is', 'a', 'test3\\n']\n"
          ]
        }
      ]
    },
    {
      "cell_type": "markdown",
      "source": [
        "附加檔案"
      ],
      "metadata": {
        "id": "7VMYyVXKKE_A"
      }
    },
    {
      "cell_type": "code",
      "source": [
        "\n",
        "a=open(\"a.txt\", \"a\")\n",
        "a.write(\"This is test4\\n\")\n",
        "a.close()"
      ],
      "metadata": {
        "id": "jDGPMFRaKFd1"
      },
      "execution_count": 11,
      "outputs": []
    },
    {
      "cell_type": "code",
      "source": [
        "a=open(\"a.txt\",\"r\")\n",
        "print(a.readlines())\n",
        "a.close()"
      ],
      "metadata": {
        "id": "Jva2SijsKGH4",
        "outputId": "9de208eb-2369-4f56-8a63-3244294c05e1",
        "colab": {
          "base_uri": "https://localhost:8080/"
        }
      },
      "execution_count": 12,
      "outputs": [
        {
          "output_type": "stream",
          "name": "stdout",
          "text": [
            "['This is a test1This is a test2\\n', 'This is a test3\\n', 'This is test4\\n']\n"
          ]
        }
      ]
    },
    {
      "cell_type": "markdown",
      "source": [
        "比較a與r+的不同\n",
        "a寫在檔案的結尾\n",
        "r+寫在檔案的開頭"
      ],
      "metadata": {
        "id": "ggD5hXGFKJ_G"
      }
    },
    {
      "cell_type": "code",
      "source": [
        "a=open(\"a.txt\",\"r+\")\n",
        "a.write(\"This is a test5\\n\")\n",
        "a.close()"
      ],
      "metadata": {
        "id": "ompAi_OAKMuA"
      },
      "execution_count": 13,
      "outputs": []
    },
    {
      "cell_type": "code",
      "source": [
        "a=open(\"a.txt\",\"r\")\n",
        "print(a.readlines())\n",
        "a.close()"
      ],
      "metadata": {
        "id": "KzsgfMVUKNgA",
        "outputId": "3c94b6ba-1871-4798-d30f-781ee3fa8e86",
        "colab": {
          "base_uri": "https://localhost:8080/"
        }
      },
      "execution_count": 14,
      "outputs": [
        {
          "output_type": "stream",
          "name": "stdout",
          "text": [
            "['This is a test5\\n', 'his is a test2\\n', 'This is a test3\\n', 'This is test4\\n']\n"
          ]
        }
      ]
    },
    {
      "cell_type": "markdown",
      "source": [
        "刪除檔案"
      ],
      "metadata": {
        "id": "tJEQ8vy-KOPl"
      }
    },
    {
      "cell_type": "code",
      "source": [
        "if os.path.isfile(\"a.txt\"):\n",
        "    os.remove(\"a.txt\")\n",
        "    print(\"檔案刪除成功\")\n",
        "else:\n",
        "    print(\"找不到檔案\")\n",
        "print(os.path.isfile(\"a.txt\"))"
      ],
      "metadata": {
        "id": "KkDBvoQJKPUZ",
        "outputId": "7f837897-f3f7-469f-c64d-0e7cec8ef5bb",
        "colab": {
          "base_uri": "https://localhost:8080/"
        }
      },
      "execution_count": 15,
      "outputs": [
        {
          "output_type": "stream",
          "name": "stdout",
          "text": [
            "檔案刪除成功\n",
            "False\n"
          ]
        }
      ]
    }
  ]
}